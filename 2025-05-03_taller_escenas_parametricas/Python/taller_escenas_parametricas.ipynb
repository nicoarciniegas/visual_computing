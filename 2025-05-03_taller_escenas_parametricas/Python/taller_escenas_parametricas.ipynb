{
  "nbformat": 4,
  "nbformat_minor": 0,
  "metadata": {
    "colab": {
      "provenance": []
    },
    "kernelspec": {
      "name": "python3",
      "display_name": "Python 3"
    },
    "language_info": {
      "name": "python"
    }
  },
  "cells": [
    {
      "cell_type": "code",
      "execution_count": null,
      "metadata": {
        "id": "SX_L3a_ztz65"
      },
      "outputs": [],
      "source": [
        "!pip install vedo trimesh open3d\n"
      ]
    },
    {
      "cell_type": "code",
      "source": [
        "import numpy as np\n",
        "import vedo\n",
        "from IPython.display import Image, display\n",
        "\n",
        "# Función para calcular distancia al origen\n",
        "def distancia(p):\n",
        "    return np.linalg.norm(p)\n",
        "\n",
        "# Lista de puntos 3D\n",
        "puntos = np.array([\n",
        "    [0, 0, 0],\n",
        "    [1, 2, 0],\n",
        "    [-2, -1, 1],\n",
        "    [3, 0, 2],\n",
        "    [0, -2, -1],\n",
        "    [1, -1, 3],\n",
        "    [-1, 3, -2]\n",
        "])\n",
        "\n",
        "# Crear lista de primitivas\n",
        "primitivas = []\n",
        "\n",
        "for i, punto in enumerate(puntos):\n",
        "    d = distancia(punto)\n",
        "    size = 0.2 + (d / 5)  # tamaño variable\n",
        "\n",
        "    # Color según altura (z)\n",
        "    if punto[2] > 1:\n",
        "        color = 'orange'\n",
        "    elif punto[2] > 0:\n",
        "        color = 'red'\n",
        "    else:\n",
        "        color = 'cyan'\n",
        "\n",
        "    # Elegir forma\n",
        "    if i % 3 == 0:\n",
        "        prim = vedo.Sphere(pos=punto, r=size).c(color)\n",
        "    elif i % 3 == 1:\n",
        "        prim = vedo.Cube(pos=punto, side=size*2).c(color)\n",
        "    else:\n",
        "        prim = vedo.Cylinder(pos=punto, r=size/2, height=size*3).c(color)\n",
        "        prim.pos(punto)\n",
        "\n",
        "    primitivas.append(prim)\n",
        "\n",
        "# Mostrar escena\n",
        "plotter = vedo.Plotter(offscreen=True, size=(600, 600))\n",
        "plotter.show(primitivas, axes=1)\n",
        "screenshot_path = \"scene_condicionales.png\"\n",
        "plotter.screenshot(screenshot_path)\n",
        "plotter.close()\n",
        "\n",
        "display(Image(screenshot_path))\n"
      ],
      "metadata": {
        "colab": {
          "base_uri": "https://localhost:8080/",
          "height": 617
        },
        "id": "2W2-pTY9uXPr",
        "outputId": "b6543e08-941f-485f-d61d-65a2c6b4d7b9"
      },
      "execution_count": 23,
      "outputs": [
        {
          "output_type": "display_data",
          "data": {
            "image/png": "[encoded data removed]",
            "text/plain": [
              "<IPython.core.display.Image object>"
            ]
          },
          "metadata": {}
        }
      ]
    },
    {
      "cell_type": "code",
      "source": [
        "# Combinar todas las primitivas en una sola malla\n",
        "escena_combinada = vedo.merge(*primitivas)\n",
        "\n",
        "# Exportar la escena combinada como un archivo .OBJ\n",
        "vedo.write(escena_combinada, \"escena.obj\")\n",
        "\n",
        "# Exportar cada objeto individualmente como .OBJ\n",
        "for i, prim in enumerate(primitivas):\n",
        "    vedo.write(prim, f\"objeto_{i}.obj\")\n",
        "\n",
        "from google.colab import files\n",
        "files.download(\"escena.obj\")"
      ],
      "metadata": {
        "colab": {
          "base_uri": "https://localhost:8080/",
          "height": 17
        },
        "id": "IwZEDut8y_fI",
        "outputId": "a09f35f0-493e-4a5b-d5ff-6ef16115cbfb"
      },
      "execution_count": 26,
      "outputs": [
        {
          "output_type": "display_data",
          "data": {
            "text/plain": [
              "<IPython.core.display.Javascript object>"
            ],
            "application/javascript": [
              "\n",
              "    async function download(id, filename, size) {\n",
              "      if (!google.colab.kernel.accessAllowed) {\n",
              "        return;\n",
              "      }\n",
              "      const div = document.createElement('div');\n",
              "      const label = document.createElement('label');\n",
              "      label.textContent = `Downloading \"${filename}\": `;\n",
              "      div.appendChild(label);\n",
              "      const progress = document.createElement('progress');\n",
              "      progress.max = size;\n",
              "      div.appendChild(progress);\n",
              "      document.body.appendChild(div);\n",
              "\n",
              "      const buffers = [];\n",
              "      let downloaded = 0;\n",
              "\n",
              "      const channel = await google.colab.kernel.comms.open(id);\n",
              "      // Send a message to notify the kernel that we're ready.\n",
              "      channel.send({})\n",
              "\n",
              "      for await (const message of channel.messages) {\n",
              "        // Send a message to notify the kernel that we're ready.\n",
              "        channel.send({})\n",
              "        if (message.buffers) {\n",
              "          for (const buffer of message.buffers) {\n",
              "            buffers.push(buffer);\n",
              "            downloaded += buffer.byteLength;\n",
              "            progress.value = downloaded;\n",
              "          }\n",
              "        }\n",
              "      }\n",
              "      const blob = new Blob(buffers, {type: 'application/binary'});\n",
              "      const a = document.createElement('a');\n",
              "      a.href = window.URL.createObjectURL(blob);\n",
              "      a.download = filename;\n",
              "      div.appendChild(a);\n",
              "      a.click();\n",
              "      div.remove();\n",
              "    }\n",
              "  "
            ]
          },
          "metadata": {}
        },
        {
          "output_type": "display_data",
          "data": {
            "text/plain": [
              "<IPython.core.display.Javascript object>"
            ],
            "application/javascript": [
              "download(\"download_481e251d-a31f-4cd2-a76e-45ce4490c6a9\", \"escena.obj\", 221051)"
            ]
          },
          "metadata": {}
        }
      ]
    }
  ]
}